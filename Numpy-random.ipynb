{
 "cells": [
  {
   "cell_type": "markdown",
   "metadata": {},
   "source": [
    "# The numpy.random package "
   ]
  },
  {
   "cell_type": "markdown",
   "metadata": {
    "collapsed": true
   },
   "source": [
    "<h2>Assignment 2018 for Programming for Data Analysis - Investigation into numpy.random</h3>\n",
    "\n",
    "There are four distinct tasks to be carried out in this investigation.\n",
    "<ol><li>Explain the overall purpose of the numpy.random package.</li>\n",
    "<li>Explain the use of the “Simple random data” and “Permutations” functions.</li>\n",
    "<li>Explain the use and purpose of at least five “Distributions” functions.</li>\n",
    "<li>Explain the use of seeds in generating pseudorandom numbers.</li></ol>\n",
    "\n",
    "<hr>\n",
    "\n",
    "<h4>1. Explanation of the overall purpose of the numpy.random package<h4>\n",
    "Numpy.random is a sub package of the NumPy library for Python. NumPy, which is short for Numerical Python, is a library which contains large, multidimensional arrays and matrices as well as a collection of high-level mathematical routines to process these arrays. NumPy enriches Python and ensures efficient calculation. To attempt a NumPy function through core Python would require extensive amounts of custom code. \n",
    "\n",
    "Random numbers - and the ability to generate random numbers - are an important part of data analysis. The numpy.random sub package can generate random, or to be more accurate, pseudorandom numbers - pseudorandom because numpy.random arrays are determined by an initial value known as a seed. As a result, pseudorandom number generators can never be considered truely random, but that is more a theoretical point. In terms of statistics and probability, pseudorandom number generators are more than sufficient. \n",
    "\n",
    "The purpose of the numpy.random package is to provide us with a way to generate and analyze pseudorandom number arrays and matrices. \n"
   ]
  },
  {
   "cell_type": "code",
   "execution_count": null,
   "metadata": {
    "collapsed": true
   },
   "outputs": [],
   "source": []
  },
  {
   "cell_type": "code",
   "execution_count": null,
   "metadata": {
    "collapsed": true
   },
   "outputs": [],
   "source": []
  }
 ],
 "metadata": {
  "kernelspec": {
   "display_name": "Python 3",
   "language": "python",
   "name": "python3"
  },
  "language_info": {
   "codemirror_mode": {
    "name": "ipython",
    "version": 3
   },
   "file_extension": ".py",
   "mimetype": "text/x-python",
   "name": "python",
   "nbconvert_exporter": "python",
   "pygments_lexer": "ipython3",
   "version": "3.6.3"
  }
 },
 "nbformat": 4,
 "nbformat_minor": 2
}
