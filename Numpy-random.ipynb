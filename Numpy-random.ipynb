{
 "cells": [
  {
   "cell_type": "markdown",
   "metadata": {},
   "source": [
    "# The numpy.random package "
   ]
  },
  {
   "cell_type": "markdown",
   "metadata": {
    "collapsed": true
   },
   "source": [
    "<h2>Assignment 2018 for Programming for Data Analysis - Investigation into numpy.random</h2>\n",
    "\n",
    "There are four distinct tasks to be carried out in this investigation.\n",
    "<ol><li>Explain the overall purpose of the numpy.random package.</li>\n",
    "<li>Explain the use of the “Simple random data” and “Permutations” functions.</li>\n",
    "<li>Explain the use and purpose of at least five “Distributions” functions.</li>\n",
    "<li>Explain the use of seeds in generating pseudorandom numbers.</li></ol>\n",
    "\n",
    "<hr>\n",
    "\n",
    "<h4>1. Explanation of the overall purpose of the numpy.random package</h4>\n",
    "Numpy.random is a sub package of the NumPy library for Python. NumPy, which is short for Numerical Python, is a library which contains large, multidimensional arrays and matrices as well as a collection of high-level mathematical routines to process these arrays. NumPy enriches Python and ensures efficient calculation. To attempt a NumPy function through core Python would require extensive amounts of custom code. \n",
    "\n",
    "Random numbers - and the ability to generate random numbers - are an important part of data analysis. The numpy.random sub package can generate random, or to be more accurate, pseudorandom numbers - pseudorandom because numpy.random arrays are determined by an initial value known as a seed. As a result, pseudorandom number generators can never be considered truely random, but that is more a theoretical point. In terms of statistics and probability, pseudorandom number generators are more than sufficient. \n",
    "\n",
    "The purpose of the numpy.random package is to provide us with a way to generate and analyze pseudorandom number arrays and matrices. \n",
    "\n",
    "<h4>2. Explanation of the use of \"Simple random data\" and \"Permutations\" functions.</h4>\n",
    "\n",
    "<h5>Simple Random Data</h5>\n",
    "\n",
    "Simple random data is a collection of sub-routines within the numpy.random routine. At it's most basic, the simple random data routines are variations on the essential premise of numpy.random which is concerned with the creation of values from probabiliity distributions. \n",
    "\n",
    "Take the numpy.random.rand function as an example. numpy.random.rand is a convenience function that creates an array of specified shape and fills it with random values."
   ]
  },
  {
   "cell_type": "code",
   "execution_count": 26,
   "metadata": {
    "collapsed": true
   },
   "outputs": [],
   "source": [
    "# Import Libraries\n",
    "import numpy as np #import numpy\n",
    "import matplotlib.pyplot as plt "
   ]
  },
  {
   "cell_type": "code",
   "execution_count": 2,
   "metadata": {},
   "outputs": [
    {
     "data": {
      "text/plain": [
       "array([ 0.62494673,  0.4323023 ,  0.55447678,  0.39753918])"
      ]
     },
     "execution_count": 2,
     "metadata": {},
     "output_type": "execute_result"
    }
   ],
   "source": [
    "np.random.rand(4) #create a basic 1D array of 4 rows and 1 column"
   ]
  },
  {
   "cell_type": "code",
   "execution_count": 3,
   "metadata": {},
   "outputs": [
    {
     "data": {
      "text/plain": [
       "array([ 0.97665546,  0.61512028,  0.32909621,  0.94571042])"
      ]
     },
     "execution_count": 3,
     "metadata": {},
     "output_type": "execute_result"
    }
   ],
   "source": [
    "np.random.rand(4) #re-running same line of code gives a random result"
   ]
  },
  {
   "cell_type": "code",
   "execution_count": 4,
   "metadata": {},
   "outputs": [
    {
     "data": {
      "text/plain": [
       "array([[ 0.57044976,  0.461307  ,  0.08889397,  0.81468376,  0.72076702],\n",
       "       [ 0.14483974,  0.91497191,  0.04901292,  0.32395342,  0.893191  ],\n",
       "       [ 0.340149  ,  0.54674514,  0.23262032,  0.27048067,  0.83847688],\n",
       "       [ 0.16714158,  0.82117912,  0.4471407 ,  0.35039954,  0.95301748]])"
      ]
     },
     "execution_count": 4,
     "metadata": {},
     "output_type": "execute_result"
    }
   ],
   "source": [
    "np.random.rand(4,5) #to run 2d array of random values"
   ]
  },
  {
   "cell_type": "markdown",
   "metadata": {},
   "source": [
    "The second sub routine in the simple random data collection we can look at is numpy.random.sample - which returns random floats in the half open interval [0.0, 1.0)."
   ]
  },
  {
   "cell_type": "code",
   "execution_count": 7,
   "metadata": {},
   "outputs": [
    {
     "data": {
      "text/plain": [
       "array([ 0.28584039,  0.32871289,  0.99505286,  0.42005845])"
      ]
     },
     "execution_count": 7,
     "metadata": {},
     "output_type": "execute_result"
    }
   ],
   "source": [
    "np.random.random_sample(4)"
   ]
  },
  {
   "cell_type": "markdown",
   "metadata": {},
   "source": [
    "Many of the sub-routines in numpy.random perform similar tasks, but random.random_sample takes it one step further and is just an alias for the functions random.random, random.ranf, and random.rand. "
   ]
  },
  {
   "cell_type": "code",
   "execution_count": 13,
   "metadata": {},
   "outputs": [
    {
     "data": {
      "text/plain": [
       "True"
      ]
     },
     "execution_count": 13,
     "metadata": {},
     "output_type": "execute_result"
    }
   ],
   "source": [
    "np.random.random_sample is np.random.ranf is np.random.random"
   ]
  },
  {
   "cell_type": "markdown",
   "metadata": {},
   "source": [
    "The only difference between random.random_sample and random.rand is that the shapes of the output array in random.rand are separate arguments compared to a signle tupel in random.random_sample."
   ]
  },
  {
   "cell_type": "markdown",
   "metadata": {},
   "source": [
    "<h5>Permutations Functions</h5>\n",
    "\n",
    "A permutation is an arrangement or ordering of a number of different objects. Numpy.random contains two permutation sub-functions namely \"shuffle\" and \"permutation\". \n",
    "\n",
    "Shuffle, as the name suggests, modifies a sequence by shuffling or re-arranging its contents. Permutation is similar and can be used to randonly permute a sequence or range. The difference between the two routines is subtle. The shuffle function requires a list or array to be input as a paramater. The permutation function, on the other hand, can be used with an integer or an array. The permutation function will randomly permute np.arange(x) if x=integer. "
   ]
  },
  {
   "cell_type": "code",
   "execution_count": 24,
   "metadata": {},
   "outputs": [
    {
     "data": {
      "text/plain": [
       "array([ 6,  8,  5,  3, 10,  9,  1,  7,  4,  2])"
      ]
     },
     "execution_count": 24,
     "metadata": {},
     "output_type": "execute_result"
    }
   ],
   "source": [
    "m = np.array([1,2,3,4,5,6,7,8,9,10]) #define array\n",
    "np.random.shuffle(m)\n",
    "m"
   ]
  },
  {
   "cell_type": "code",
   "execution_count": 43,
   "metadata": {},
   "outputs": [
    {
     "data": {
      "text/plain": [
       "array([7, 8, 6, 9, 4, 0, 5, 1, 2, 3])"
      ]
     },
     "execution_count": 43,
     "metadata": {},
     "output_type": "execute_result"
    }
   ],
   "source": [
    "np.random.permutation(10) #function randomly permutes np.arrange(10) in this instance"
   ]
  },
  {
   "cell_type": "code",
   "execution_count": 40,
   "metadata": {
    "collapsed": true
   },
   "outputs": [],
   "source": [
    "%matplotlib inline"
   ]
  },
  {
   "cell_type": "code",
   "execution_count": 41,
   "metadata": {},
   "outputs": [
    {
     "data": {
      "text/plain": [
       "(array([ 1.,  1.,  1.,  1.,  1.,  1.,  1.,  1.,  1.,  1.]),\n",
       " array([  1. ,   1.9,   2.8,   3.7,   4.6,   5.5,   6.4,   7.3,   8.2,\n",
       "          9.1,  10. ]),\n",
       " <a list of 10 Patch objects>)"
      ]
     },
     "execution_count": 41,
     "metadata": {},
     "output_type": "execute_result"
    },
    {
     "data": {
      "image/png": "[encoded data removed]",
      "text/plain": [
       "<matplotlib.figure.Figure at 0x10fb22eb8>"
      ]
     },
     "metadata": {},
     "output_type": "display_data"
    }
   ],
   "source": [
    "plt.hist(m) #show array on histogram"
   ]
  },
  {
   "cell_type": "markdown",
   "metadata": {},
   "source": [
    "<h4>Explain the use and purpose of at least five “Distributions” functions.</h4>\n",
    "\n",
    "Distributions are a visual representation of all possible values that your random variable can be plus the probabilities for each of those values. Distributions can take the form of tables, graphs or charts.\n",
    "\n",
    "The numpy.random function contains a number of distribution sub-functions to generate and visualize random variables from specific probability distribution.\n",
    "\n",
    "\n",
    "The five distributions we will examine in this section are:\n",
    "<ul><li><strong>beta(a, b[, size])</strong>\tDraw samples from a Beta distribution.</li>\n",
    "<li><strong>binomial(n, p[, size])</strong>\tDraw samples from a binomial distribution.</li>\n",
    "<li><strong>chisquare(df[, size])</strong>\tDraw samples from a chi-square distribution.</li>\n",
    "<li><strong>dirichlet(alpha[, size])</strong>\tDraw samples from the Dirichlet distribution.</li>\n",
    "<li><strong>exponential([scale, size])</strong>\tDraw samples from an exponential distribution.</li></ul>\n",
    "\n",
    "<strong>Beta</strong>\n"
   ]
  },
  {
   "cell_type": "code",
   "execution_count": 47,
   "metadata": {},
   "outputs": [
    {
     "data": {
      "text/plain": [
       "array([ 0.38979962,  0.68965872,  0.51910754,  0.36757717,  0.30222841])"
      ]
     },
     "execution_count": 47,
     "metadata": {},
     "output_type": "execute_result"
    }
   ],
   "source": [
    "np.random.beta(4, 5, size=5)"
   ]
  },
  {
   "cell_type": "code",
   "execution_count": 48,
   "metadata": {},
   "outputs": [],
   "source": [
    "x = np.random.beta(4, 5, size=5)#simple example"
   ]
  },
  {
   "cell_type": "code",
   "execution_count": 46,
   "metadata": {},
   "outputs": [
    {
     "data": {
      "text/plain": [
       "(array([ 1.,  1.,  0.,  0.,  1.,  0.,  0.,  1.,  0.,  1.]),\n",
       " array([ 0.19738535,  0.23658364,  0.27578194,  0.31498024,  0.35417853,\n",
       "         0.39337683,  0.43257513,  0.47177343,  0.51097172,  0.55017002,\n",
       "         0.58936832]),\n",
       " <a list of 10 Patch objects>)"
      ]
     },
     "execution_count": 46,
     "metadata": {},
     "output_type": "execute_result"
    },
    {
     "data": {
      "image/png": "[encoded data removed]",
      "text/plain": [
       "<matplotlib.figure.Figure at 0x10fb22320>"
      ]
     },
     "metadata": {},
     "output_type": "display_data"
    }
   ],
   "source": [
    "plt.hist(x)"
   ]
  },
  {
   "cell_type": "markdown",
   "metadata": {},
   "source": [
    "<strong>Binomial</strong>\n",
    "\n",
    "This function lets us draw samples from a binomial distribution. Samples are drawn from a Binomial distribution with specified parameters. These paramaters are n=trials and p=probability of success where n an integer > 0 and p is in the interval [0,1]. \n"
   ]
  },
  {
   "cell_type": "code",
   "execution_count": 58,
   "metadata": {},
   "outputs": [],
   "source": [
    "x = np.random.binomial(17, .5, size=1000)#17 samples, 50% probability of success, and 1000 experiments"
   ]
  },
  {
   "cell_type": "code",
   "execution_count": 60,
   "metadata": {},
   "outputs": [
    {
     "data": {
      "text/plain": [
       "(array([   2.,    2.,   16.,  133.,  152.,  205.,  317.,   98.,   45.,   30.]),\n",
       " array([  1. ,   2.3,   3.6,   4.9,   6.2,   7.5,   8.8,  10.1,  11.4,\n",
       "         12.7,  14. ]),\n",
       " <a list of 10 Patch objects>)"
      ]
     },
     "execution_count": 60,
     "metadata": {},
     "output_type": "execute_result"
    },
    {
     "data": {
      "image/png": "[encoded data removed]",
      "text/plain": [
       "<matplotlib.figure.Figure at 0x1131dacc0>"
      ]
     },
     "metadata": {},
     "output_type": "display_data"
    }
   ],
   "source": [
    "plt.hist(x)"
   ]
  },
  {
   "cell_type": "markdown",
   "metadata": {},
   "source": [
    "In the example above the histogram shows that the majority of values are returned are between 8-10 which is consistent with our 50% probability of success when calculated out of n (n=17)"
   ]
  },
  {
   "cell_type": "markdown",
   "metadata": {},
   "source": [
    "<strong>Chisquare</strong>\n",
    "\n",
    "Draw samples from a chi-square distribution.\n",
    "\n",
    "When df independent random variables, each with standard normal distributions (mean 0, variance 1), are squared and summed, the resulting distribution is chi-square (see Notes). This distribution is often used in hypothesis testing."
   ]
  }
 ],
 "metadata": {
  "kernelspec": {
   "display_name": "Python 3",
   "language": "python",
   "name": "python3"
  },
  "language_info": {
   "codemirror_mode": {
    "name": "ipython",
    "version": 3
   },
   "file_extension": ".py",
   "mimetype": "text/x-python",
   "name": "python",
   "nbconvert_exporter": "python",
   "pygments_lexer": "ipython3",
   "version": "3.6.3"
  }
 },
 "nbformat": 4,
 "nbformat_minor": 2
}
