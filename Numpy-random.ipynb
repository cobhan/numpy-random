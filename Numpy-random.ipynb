{
 "cells": [
  {
   "cell_type": "markdown",
   "metadata": {},
   "source": [
    "# The numpy.random package "
   ]
  },
  {
   "cell_type": "markdown",
   "metadata": {
    "collapsed": true
   },
   "source": [
    "<h2>Assignment 2018 for Programming for Data Analysis - Investigation into numpy.random</h2>\n",
    "\n",
    "There are four distinct tasks to be carried out in this investigation.\n",
    "<ol><li>Explain the overall purpose of the numpy.random package.</li>\n",
    "<li>Explain the use of the “Simple random data” and “Permutations” functions.</li>\n",
    "<li>Explain the use and purpose of at least five “Distributions” functions.</li>\n",
    "<li>Explain the use of seeds in generating pseudorandom numbers.</li></ol>\n",
    "\n",
    "<hr>\n",
    "\n",
    "<h4>1. Explanation of the overall purpose of the numpy.random package<h4>\n",
    "Numpy.random is a sub package of the NumPy library for Python. NumPy, which is short for Numerical Python, is a library which contains large, multidimensional arrays and matrices as well as a collection of high-level mathematical routines to process these arrays. NumPy enriches Python and ensures efficient calculation. To attempt a NumPy function through core Python would require extensive amounts of custom code. \n",
    "\n",
    "Random numbers - and the ability to generate random numbers - are an important part of data analysis. The numpy.random sub package can generate random, or to be more accurate, pseudorandom numbers - pseudorandom because numpy.random arrays are determined by an initial value known as a seed. As a result, pseudorandom number generators can never be considered truely random, but that is more a theoretical point. In terms of statistics and probability, pseudorandom number generators are more than sufficient. \n",
    "\n",
    "The purpose of the numpy.random package is to provide us with a way to generate and analyze pseudorandom number arrays and matrices. \n",
    "\n",
    "<h4>2. Explanation of the use of \"Simple random data\" and \"Permutations\" functions.</h4>\n",
    "\n",
    "<h5>Simple Random Data</h5>\n",
    "\n",
    "Simple random data is a collection of sub-routines within the numpy.random routine. At it's most basic, the simple random data routines are variations on the essential premise of numpy.random which is concerned with the creation of values from probabiliity distributions. \n",
    "\n",
    "Take the numpy.random.rand function as an example. numpy.random.rand is a convenience function that creates an array of specified shape and fills it with random values."
   ]
  },
  {
   "cell_type": "code",
   "execution_count": 1,
   "metadata": {
    "collapsed": true
   },
   "outputs": [],
   "source": [
    "# Import Libraries\n",
    "import numpy as np #import numpy"
   ]
  },
  {
   "cell_type": "code",
   "execution_count": 2,
   "metadata": {},
   "outputs": [
    {
     "data": {
      "text/plain": [
       "array([ 0.62494673,  0.4323023 ,  0.55447678,  0.39753918])"
      ]
     },
     "execution_count": 2,
     "metadata": {},
     "output_type": "execute_result"
    }
   ],
   "source": [
    "np.random.rand(4) #create a basic 1D array of 4 rows and 1 column"
   ]
  },
  {
   "cell_type": "code",
   "execution_count": 3,
   "metadata": {},
   "outputs": [
    {
     "data": {
      "text/plain": [
       "array([ 0.97665546,  0.61512028,  0.32909621,  0.94571042])"
      ]
     },
     "execution_count": 3,
     "metadata": {},
     "output_type": "execute_result"
    }
   ],
   "source": [
    "np.random.rand(4) #re-running same line of code gives a random result"
   ]
  },
  {
   "cell_type": "code",
   "execution_count": 4,
   "metadata": {},
   "outputs": [
    {
     "data": {
      "text/plain": [
       "array([[ 0.57044976,  0.461307  ,  0.08889397,  0.81468376,  0.72076702],\n",
       "       [ 0.14483974,  0.91497191,  0.04901292,  0.32395342,  0.893191  ],\n",
       "       [ 0.340149  ,  0.54674514,  0.23262032,  0.27048067,  0.83847688],\n",
       "       [ 0.16714158,  0.82117912,  0.4471407 ,  0.35039954,  0.95301748]])"
      ]
     },
     "execution_count": 4,
     "metadata": {},
     "output_type": "execute_result"
    }
   ],
   "source": [
    "np.random.rand(4,5) #to run 2d array of random values"
   ]
  },
  {
   "cell_type": "markdown",
   "metadata": {},
   "source": [
    "The second sub routine in the simple random data collection we can look at is numpy.random.sample - which returns random floats in the half open interval [0.0, 1.0)."
   ]
  },
  {
   "cell_type": "code",
   "execution_count": 7,
   "metadata": {},
   "outputs": [
    {
     "data": {
      "text/plain": [
       "array([ 0.28584039,  0.32871289,  0.99505286,  0.42005845])"
      ]
     },
     "execution_count": 7,
     "metadata": {},
     "output_type": "execute_result"
    }
   ],
   "source": [
    "np.random.random_sample(4)"
   ]
  },
  {
   "cell_type": "markdown",
   "metadata": {},
   "source": [
    "Many of the sub-routines in numpy.random perform similar tasks, but random.random_sample takes it one step further and is just an alias for the functions random.random, random.ranf, and random.rand. "
   ]
  },
  {
   "cell_type": "code",
   "execution_count": 13,
   "metadata": {},
   "outputs": [
    {
     "data": {
      "text/plain": [
       "True"
      ]
     },
     "execution_count": 13,
     "metadata": {},
     "output_type": "execute_result"
    }
   ],
   "source": [
    "np.random.random_sample is np.random.ranf is np.random.random"
   ]
  },
  {
   "cell_type": "markdown",
   "metadata": {},
   "source": [
    "The only difference between random.random_sample and random.rand is that the shapes of the output array in random.rand are separate arguments compared to a signle tupel in random.random_sample."
   ]
  },
  {
   "cell_type": "markdown",
   "metadata": {},
   "source": [
    "<h5>Permutations Functions"
   ]
  }
 ],
 "metadata": {
  "kernelspec": {
   "display_name": "Python 3",
   "language": "python",
   "name": "python3"
  },
  "language_info": {
   "codemirror_mode": {
    "name": "ipython",
    "version": 3
   },
   "file_extension": ".py",
   "mimetype": "text/x-python",
   "name": "python",
   "nbconvert_exporter": "python",
   "pygments_lexer": "ipython3",
   "version": "3.6.3"
  }
 },
 "nbformat": 4,
 "nbformat_minor": 2
}
